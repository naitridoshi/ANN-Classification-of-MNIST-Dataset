{
 "cells": [
  {
   "cell_type": "code",
   "execution_count": 1,
   "id": "087ad45a",
   "metadata": {},
   "outputs": [],
   "source": [
    "import tensorflow as tf"
   ]
  },
  {
   "cell_type": "code",
   "execution_count": 2,
   "id": "489731a9",
   "metadata": {},
   "outputs": [],
   "source": [
    "data= tf.keras.datasets.mnist\n",
    "(x_train,y_train),(x_test,y_test)= data.load_data()"
   ]
  },
  {
   "cell_type": "code",
   "execution_count": 3,
   "id": "beca30b8",
   "metadata": {},
   "outputs": [
    {
     "name": "stdout",
     "output_type": "stream",
     "text": [
      "(60000, 28, 28)\n"
     ]
    }
   ],
   "source": [
    "print(x_train.shape)"
   ]
  },
  {
   "cell_type": "code",
   "execution_count": 4,
   "id": "9ec08883",
   "metadata": {},
   "outputs": [],
   "source": [
    "model =tf.keras.models.Sequential([\n",
    "    tf.keras.layers.Flatten(input_shape=(28,28)),\n",
    "    tf.keras.layers.Dense(128,activation='relu'),\n",
    "    tf.keras.layers.Dropout(0.2),\n",
    "    tf.keras.layers.Dense(10,activation='softmax')\n",
    "])"
   ]
  },
  {
   "cell_type": "code",
   "execution_count": 5,
   "id": "ab9bdc67",
   "metadata": {},
   "outputs": [],
   "source": [
    "model.compile(optimizer='adam',loss='sparse_categorical_crossentropy',metrics=['accuracy'])\n"
   ]
  },
  {
   "cell_type": "code",
   "execution_count": 6,
   "id": "742497c3",
   "metadata": {},
   "outputs": [
    {
     "name": "stdout",
     "output_type": "stream",
     "text": [
      "Epoch 1/10\n",
      "1875/1875 [==============================] - 5s 3ms/step - loss: 2.3914 - accuracy: 0.7677 - val_loss: 0.5130 - val_accuracy: 0.8630\n",
      "Epoch 2/10\n",
      "1875/1875 [==============================] - 5s 2ms/step - loss: 0.5696 - accuracy: 0.8478 - val_loss: 0.3875 - val_accuracy: 0.9113\n",
      "Epoch 3/10\n",
      "1875/1875 [==============================] - 5s 3ms/step - loss: 0.4705 - accuracy: 0.8776 - val_loss: 0.3305 - val_accuracy: 0.9234\n",
      "Epoch 4/10\n",
      "1875/1875 [==============================] - 5s 3ms/step - loss: 0.4326 - accuracy: 0.8892 - val_loss: 0.2760 - val_accuracy: 0.9253\n",
      "Epoch 5/10\n",
      "1875/1875 [==============================] - 5s 2ms/step - loss: 0.3896 - accuracy: 0.8992 - val_loss: 0.3274 - val_accuracy: 0.9307\n",
      "Epoch 6/10\n",
      "1875/1875 [==============================] - 5s 2ms/step - loss: 0.3654 - accuracy: 0.9064 - val_loss: 0.3114 - val_accuracy: 0.9342\n",
      "Epoch 7/10\n",
      "1875/1875 [==============================] - 6s 3ms/step - loss: 0.3382 - accuracy: 0.9134 - val_loss: 0.3273 - val_accuracy: 0.9393\n",
      "Epoch 8/10\n",
      "1875/1875 [==============================] - 5s 3ms/step - loss: 0.3394 - accuracy: 0.9146 - val_loss: 0.2979 - val_accuracy: 0.9419\n",
      "Epoch 9/10\n",
      "1875/1875 [==============================] - 5s 3ms/step - loss: 0.3251 - accuracy: 0.9168 - val_loss: 0.3181 - val_accuracy: 0.9451\n",
      "Epoch 10/10\n",
      "1875/1875 [==============================] - 5s 3ms/step - loss: 0.3149 - accuracy: 0.9212 - val_loss: 0.2722 - val_accuracy: 0.9432\n"
     ]
    }
   ],
   "source": [
    "r=model.fit(x_train,y_train,validation_data=(x_test,y_test),epochs=10)"
   ]
  },
  {
   "cell_type": "code",
   "execution_count": 7,
   "id": "abc04da3",
   "metadata": {},
   "outputs": [
    {
     "name": "stdout",
     "output_type": "stream",
     "text": [
      "313/313 [==============================] - 0s 1ms/step - loss: 0.2722 - accuracy: 0.9432\n",
      "[0.2721775770187378, 0.9431999921798706]\n",
      "313/313 [==============================] - 0s 1ms/step\n"
     ]
    }
   ],
   "source": [
    "print(model.evaluate(x_test,y_test))\n",
    "pred=model.predict(x_test).argmax(axis=1)"
   ]
  },
  {
   "cell_type": "code",
   "execution_count": 12,
   "id": "77113ac7",
   "metadata": {},
   "outputs": [
    {
     "data": {
      "text/plain": [
       "array([[ 932,    0,    3,    1,    1,    2,    5,    1,   32,    3],\n",
       "       [   0, 1101,    2,    5,    0,    0,    2,    1,   24,    0],\n",
       "       [   1,    1,  952,   22,    3,    0,    3,   24,   25,    1],\n",
       "       [   0,    0,    7,  970,    0,    4,    0,    6,   20,    3],\n",
       "       [   0,    0,    4,    0,  898,    1,    7,    2,   18,   52],\n",
       "       [   4,    0,    2,   26,    0,  811,   17,    2,   29,    1],\n",
       "       [   4,    3,    1,    0,    2,    4,  932,    0,   12,    0],\n",
       "       [   1,    5,   23,    9,    2,    1,    0,  967,    7,   13],\n",
       "       [   3,    1,    3,    7,    6,    5,    6,    1,  937,    5],\n",
       "       [   2,    3,    0,   18,    7,    3,    1,    8,   35,  932]],\n",
       "      dtype=int64)"
      ]
     },
     "execution_count": 12,
     "metadata": {},
     "output_type": "execute_result"
    }
   ],
   "source": [
    "from sklearn.metrics import confusion_matrix, classification_report, r2_score\n",
    "confusion_matrix(y_test,pred)"
   ]
  },
  {
   "cell_type": "code",
   "execution_count": 13,
   "id": "0eea34c4",
   "metadata": {},
   "outputs": [
    {
     "data": {
      "text/plain": [
       "0.8598840219895909"
      ]
     },
     "execution_count": 13,
     "metadata": {},
     "output_type": "execute_result"
    }
   ],
   "source": [
    "r2_score(y_test,pred)"
   ]
  },
  {
   "cell_type": "code",
   "execution_count": 10,
   "id": "a03e09a9",
   "metadata": {},
   "outputs": [
    {
     "name": "stdout",
     "output_type": "stream",
     "text": [
      "              precision    recall  f1-score   support\n",
      "\n",
      "           0       0.98      0.95      0.97       980\n",
      "           1       0.99      0.97      0.98      1135\n",
      "           2       0.95      0.92      0.94      1032\n",
      "           3       0.92      0.96      0.94      1010\n",
      "           4       0.98      0.91      0.94       982\n",
      "           5       0.98      0.91      0.94       892\n",
      "           6       0.96      0.97      0.97       958\n",
      "           7       0.96      0.94      0.95      1028\n",
      "           8       0.82      0.96      0.89       974\n",
      "           9       0.92      0.92      0.92      1009\n",
      "\n",
      "    accuracy                           0.94     10000\n",
      "   macro avg       0.95      0.94      0.94     10000\n",
      "weighted avg       0.95      0.94      0.94     10000\n",
      "\n"
     ]
    }
   ],
   "source": [
    "print(classification_report(y_test,pred))"
   ]
  },
  {
   "cell_type": "code",
   "execution_count": 20,
   "id": "a609fff5",
   "metadata": {},
   "outputs": [
    {
     "data": {
      "text/plain": [
       "Text(0.5, 1.0, 'True Label: 7 Predicted: 9')"
      ]
     },
     "execution_count": 20,
     "metadata": {},
     "output_type": "execute_result"
    },
    {
     "data": {
      "image/png": "[encoded data removed]",
      "text/plain": [
       "<Figure size 432x288 with 1 Axes>"
      ]
     },
     "metadata": {
      "needs_background": "light"
     },
     "output_type": "display_data"
    }
   ],
   "source": [
    "import numpy as np\n",
    "import matplotlib.pyplot as plt\n",
    "missclassified_eg=np.where(pred!=y_test)[0]\n",
    "i=np.random.choice(missclassified_eg)\n",
    "plt.imshow(x_test[i],cmap='gray')\n",
    "plt.title(\"True Label: %s Predicted: %s\" %(y_test[i],pred[i]))"
   ]
  },
  {
   "cell_type": "code",
   "execution_count": null,
   "id": "9bad2984",
   "metadata": {},
   "outputs": [],
   "source": []
  },
  {
   "cell_type": "code",
   "execution_count": null,
   "id": "022e1237",
   "metadata": {},
   "outputs": [],
   "source": []
  }
 ],
 "metadata": {
  "kernelspec": {
   "display_name": "Python 3 (ipykernel)",
   "language": "python",
   "name": "python3"
  },
  "language_info": {
   "codemirror_mode": {
    "name": "ipython",
    "version": 3
   },
   "file_extension": ".py",
   "mimetype": "text/x-python",
   "name": "python",
   "nbconvert_exporter": "python",
   "pygments_lexer": "ipython3",
   "version": "3.10.5"
  }
 },
 "nbformat": 4,
 "nbformat_minor": 5
}
